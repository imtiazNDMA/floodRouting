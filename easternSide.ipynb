{
 "cells": [
  {
   "cell_type": "code",
   "execution_count": 20,
   "id": "88b58331",
   "metadata": {},
   "outputs": [],
   "source": [
    "import pandas as pd \n",
    "import numpy as np \n",
    "import seaborn as sns \n",
    "import matplotlib.pyplot as plt\n",
    "from highlight_text import fig_text, ax_text\n",
    "from matplotlib.patches import FancyArrowPatch\n",
    "import matplotlib.dates as mdates"
   ]
  },
  {
   "cell_type": "code",
   "execution_count": 21,
   "id": "2944267e",
   "metadata": {},
   "outputs": [
    {
     "data": {
      "application/vnd.microsoft.datawrangler.viewer.v0+json": {
       "columns": [
        {
         "name": "index",
         "rawType": "int64",
         "type": "integer"
        },
        {
         "name": "Name of Structure",
         "rawType": "object",
         "type": "string"
        },
        {
         "name": "Inflow_Discharge",
         "rawType": "float64",
         "type": "float"
        },
        {
         "name": "Outflow_Discharge",
         "rawType": "float64",
         "type": "float"
        },
        {
         "name": "River",
         "rawType": "object",
         "type": "string"
        },
        {
         "name": "Date",
         "rawType": "object",
         "type": "string"
        }
       ],
       "ref": "6803d3c7-70be-4d0e-8d3b-ade0e5e365e7",
       "rows": [
        [
         "0",
         "Taunsa",
         "158775.0",
         "133869.0",
         "Indus",
         "15/06/2025 6:00"
        ],
        [
         "1",
         "Tarbela Dam",
         "178000.0",
         "151700.0",
         "Indus",
         "15/06/2025 6:00"
        ],
        [
         "2",
         "Sulemanki",
         "14862.0",
         "2654.0",
         "Sutlej",
         "15/06/2025 6:00"
        ],
        [
         "3",
         "Sukkur",
         "80240.0",
         "32400.0",
         "Indus",
         "15/06/2025 6:00"
        ],
        [
         "4",
         "Sidhnai",
         "11200.0",
         "0.0",
         "Ravi",
         "15/06/2025 6:00"
        ]
       ],
       "shape": {
        "columns": 5,
        "rows": 5
       }
      },
      "text/html": [
       "<div>\n",
       "<style scoped>\n",
       "    .dataframe tbody tr th:only-of-type {\n",
       "        vertical-align: middle;\n",
       "    }\n",
       "\n",
       "    .dataframe tbody tr th {\n",
       "        vertical-align: top;\n",
       "    }\n",
       "\n",
       "    .dataframe thead th {\n",
       "        text-align: right;\n",
       "    }\n",
       "</style>\n",
       "<table border=\"1\" class=\"dataframe\">\n",
       "  <thead>\n",
       "    <tr style=\"text-align: right;\">\n",
       "      <th></th>\n",
       "      <th>Name of Structure</th>\n",
       "      <th>Inflow_Discharge</th>\n",
       "      <th>Outflow_Discharge</th>\n",
       "      <th>River</th>\n",
       "      <th>Date</th>\n",
       "    </tr>\n",
       "  </thead>\n",
       "  <tbody>\n",
       "    <tr>\n",
       "      <th>0</th>\n",
       "      <td>Taunsa</td>\n",
       "      <td>158775.0</td>\n",
       "      <td>133869.0</td>\n",
       "      <td>Indus</td>\n",
       "      <td>15/06/2025 6:00</td>\n",
       "    </tr>\n",
       "    <tr>\n",
       "      <th>1</th>\n",
       "      <td>Tarbela Dam</td>\n",
       "      <td>178000.0</td>\n",
       "      <td>151700.0</td>\n",
       "      <td>Indus</td>\n",
       "      <td>15/06/2025 6:00</td>\n",
       "    </tr>\n",
       "    <tr>\n",
       "      <th>2</th>\n",
       "      <td>Sulemanki</td>\n",
       "      <td>14862.0</td>\n",
       "      <td>2654.0</td>\n",
       "      <td>Sutlej</td>\n",
       "      <td>15/06/2025 6:00</td>\n",
       "    </tr>\n",
       "    <tr>\n",
       "      <th>3</th>\n",
       "      <td>Sukkur</td>\n",
       "      <td>80240.0</td>\n",
       "      <td>32400.0</td>\n",
       "      <td>Indus</td>\n",
       "      <td>15/06/2025 6:00</td>\n",
       "    </tr>\n",
       "    <tr>\n",
       "      <th>4</th>\n",
       "      <td>Sidhnai</td>\n",
       "      <td>11200.0</td>\n",
       "      <td>0.0</td>\n",
       "      <td>Ravi</td>\n",
       "      <td>15/06/2025 6:00</td>\n",
       "    </tr>\n",
       "  </tbody>\n",
       "</table>\n",
       "</div>"
      ],
      "text/plain": [
       "  Name of Structure  Inflow_Discharge  Outflow_Discharge   River  \\\n",
       "0            Taunsa          158775.0           133869.0   Indus   \n",
       "1       Tarbela Dam          178000.0           151700.0   Indus   \n",
       "2         Sulemanki           14862.0             2654.0  Sutlej   \n",
       "3            Sukkur           80240.0            32400.0   Indus   \n",
       "4           Sidhnai           11200.0                0.0    Ravi   \n",
       "\n",
       "              Date  \n",
       "0  15/06/2025 6:00  \n",
       "1  15/06/2025 6:00  \n",
       "2  15/06/2025 6:00  \n",
       "3  15/06/2025 6:00  \n",
       "4  15/06/2025 6:00  "
      ]
     },
     "execution_count": 21,
     "metadata": {},
     "output_type": "execute_result"
    }
   ],
   "source": [
    "file = \"pm_dashboard_data.csv\"\n",
    "df = pd.read_csv(file)\n",
    "\n",
    "df.head()"
   ]
  },
  {
   "cell_type": "code",
   "execution_count": 22,
   "id": "c7f02d11",
   "metadata": {},
   "outputs": [
    {
     "data": {
      "text/plain": [
       "array(['Taunsa', 'Tarbela Dam', 'Sulemanki', 'Sukkur', 'Sidhnai', 'Rasul',\n",
       "       'Q.Abad', 'Panjnad', 'Marala', 'Mangla Dam', 'Kotri', 'Khanki',\n",
       "       'Kalabagh', 'KABUL', 'Jassar', 'Islam', 'Guddu',\n",
       "       'Ganda Singh Wala', 'Chashma', 'Balloki', 'Trimmu', 'Shahdara',\n",
       "       'Thein Dam', 'Harike', 'Bhakra Dam', 'Pong Dam', 'Skardu',\n",
       "       'Partab Bridge (Bunji)', 'Muzaffarabad', 'Kotli', 'Domel',\n",
       "       'Chattar Klass', 'Besham', 'Azad Pattan', 'Chiniot'], dtype=object)"
      ]
     },
     "execution_count": 22,
     "metadata": {},
     "output_type": "execute_result"
    }
   ],
   "source": [
    "df[\"Name of Structure\"].unique()"
   ]
  },
  {
   "cell_type": "code",
   "execution_count": 23,
   "id": "102b7b20",
   "metadata": {},
   "outputs": [
    {
     "data": {
      "application/vnd.microsoft.datawrangler.viewer.v0+json": {
       "columns": [
        {
         "name": "Date",
         "rawType": "datetime64[ns]",
         "type": "datetime"
        },
        {
         "name": "Name of Structure",
         "rawType": "object",
         "type": "string"
        },
        {
         "name": "Inflow_Discharge",
         "rawType": "float64",
         "type": "float"
        },
        {
         "name": "Outflow_Discharge",
         "rawType": "float64",
         "type": "float"
        },
        {
         "name": "River",
         "rawType": "object",
         "type": "string"
        }
       ],
       "ref": "98bf297c-378e-4e7d-b589-3d4bdae19a4c",
       "rows": [
        [
         "2025-06-25 06:00:00",
         "Pong Dam",
         "17378.0",
         "9508.0",
         "Byas"
        ],
        [
         "2025-06-26 06:00:00",
         "Pong Dam",
         "34939.0",
         "9512.0",
         "Byas"
        ],
        [
         "2025-07-01 06:00:00",
         "Pong Dam",
         "95347.0",
         "6000.0",
         "Byas"
        ],
        [
         "2025-07-02 06:00:00",
         "Pong Dam",
         "203953.0",
         "7501.0",
         "Byas"
        ],
        [
         "2025-07-03 06:00:00",
         "Pong Dam",
         "26547.0",
         "13267.0",
         "Byas"
        ]
       ],
       "shape": {
        "columns": 4,
        "rows": 5
       }
      },
      "text/html": [
       "<div>\n",
       "<style scoped>\n",
       "    .dataframe tbody tr th:only-of-type {\n",
       "        vertical-align: middle;\n",
       "    }\n",
       "\n",
       "    .dataframe tbody tr th {\n",
       "        vertical-align: top;\n",
       "    }\n",
       "\n",
       "    .dataframe thead th {\n",
       "        text-align: right;\n",
       "    }\n",
       "</style>\n",
       "<table border=\"1\" class=\"dataframe\">\n",
       "  <thead>\n",
       "    <tr style=\"text-align: right;\">\n",
       "      <th></th>\n",
       "      <th>Name of Structure</th>\n",
       "      <th>Inflow_Discharge</th>\n",
       "      <th>Outflow_Discharge</th>\n",
       "      <th>River</th>\n",
       "    </tr>\n",
       "    <tr>\n",
       "      <th>Date</th>\n",
       "      <th></th>\n",
       "      <th></th>\n",
       "      <th></th>\n",
       "      <th></th>\n",
       "    </tr>\n",
       "  </thead>\n",
       "  <tbody>\n",
       "    <tr>\n",
       "      <th>2025-06-25 06:00:00</th>\n",
       "      <td>Pong Dam</td>\n",
       "      <td>17378.0</td>\n",
       "      <td>9508.0</td>\n",
       "      <td>Byas</td>\n",
       "    </tr>\n",
       "    <tr>\n",
       "      <th>2025-06-26 06:00:00</th>\n",
       "      <td>Pong Dam</td>\n",
       "      <td>34939.0</td>\n",
       "      <td>9512.0</td>\n",
       "      <td>Byas</td>\n",
       "    </tr>\n",
       "    <tr>\n",
       "      <th>2025-07-01 06:00:00</th>\n",
       "      <td>Pong Dam</td>\n",
       "      <td>95347.0</td>\n",
       "      <td>6000.0</td>\n",
       "      <td>Byas</td>\n",
       "    </tr>\n",
       "    <tr>\n",
       "      <th>2025-07-02 06:00:00</th>\n",
       "      <td>Pong Dam</td>\n",
       "      <td>203953.0</td>\n",
       "      <td>7501.0</td>\n",
       "      <td>Byas</td>\n",
       "    </tr>\n",
       "    <tr>\n",
       "      <th>2025-07-03 06:00:00</th>\n",
       "      <td>Pong Dam</td>\n",
       "      <td>26547.0</td>\n",
       "      <td>13267.0</td>\n",
       "      <td>Byas</td>\n",
       "    </tr>\n",
       "  </tbody>\n",
       "</table>\n",
       "</div>"
      ],
      "text/plain": [
       "                    Name of Structure  Inflow_Discharge  Outflow_Discharge  \\\n",
       "Date                                                                         \n",
       "2025-06-25 06:00:00          Pong Dam           17378.0             9508.0   \n",
       "2025-06-26 06:00:00          Pong Dam           34939.0             9512.0   \n",
       "2025-07-01 06:00:00          Pong Dam           95347.0             6000.0   \n",
       "2025-07-02 06:00:00          Pong Dam          203953.0             7501.0   \n",
       "2025-07-03 06:00:00          Pong Dam           26547.0            13267.0   \n",
       "\n",
       "                    River  \n",
       "Date                       \n",
       "2025-06-25 06:00:00  Byas  \n",
       "2025-06-26 06:00:00  Byas  \n",
       "2025-07-01 06:00:00  Byas  \n",
       "2025-07-02 06:00:00  Byas  \n",
       "2025-07-03 06:00:00  Byas  "
      ]
     },
     "execution_count": 23,
     "metadata": {},
     "output_type": "execute_result"
    }
   ],
   "source": [
    "df_pong = df[df[\"Name of Structure\"] == \"Pong Dam\"].copy()\n",
    "df_pong[\"Date\"] = pd.to_datetime(df_pong[\"Date\"], dayfirst=True)\n",
    "df_pong.set_index(\"Date\", inplace=True)\n",
    "\n",
    "df_bhakra = df[df[\"Name of Structure\"] == 'Bhakra Dam'].copy()\n",
    "df_bhakra[\"Date\"] = pd.to_datetime(df_bhakra[\"Date\"], dayfirst=True)\n",
    "df_bhakra.set_index(\"Date\", inplace=True)\n",
    "\n",
    "df_Thein = df[df[\"Name of Structure\"] == 'Thein Dam'].copy()\n",
    "df_Thein[\"Date\"] = pd.to_datetime(df_Thein[\"Date\"], dayfirst=True)\n",
    "df_Thein.set_index(\"Date\", inplace=True)\n",
    "\n",
    "df_pong.head()\n"
   ]
  },
  {
   "cell_type": "code",
   "execution_count": null,
   "id": "97f36b8b",
   "metadata": {},
   "outputs": [
    {
     "data": {
      "image/png": "[encoded data removed]",
      "text/plain": [
       "<Figure size 1000x600 with 3 Axes>"
      ]
     },
     "metadata": {},
     "output_type": "display_data"
    }
   ],
   "source": [
    "fig, ax = plt.subplots(figsize=(10, 6), dpi=100, nrows=3, sharex=True)\n",
    "fig.tight_layout()\n",
    "\n",
    "\n",
    "ax[0].plot(df_pong.index, df_pong[\"Outflow_Discharge\"], color=\"blue\")\n",
    "ax[0].fill_between(df_pong.index, df_pong[\"Outflow_Discharge\"], color=\"blue\", alpha=.4, label=\"Pong Dam\")\n",
    "\n",
    "ax[1].plot(df_bhakra.index, df_bhakra[\"Outflow_Discharge\"], color=\"orange\")\n",
    "ax[1].fill_between(df_bhakra.index, df_bhakra[\"Outflow_Discharge\"], color=\"orange\", alpha=.4, label=\"Bhakra Dam\")\n",
    "\n",
    "ax[2].plot(df_Thein.index, df_Thein[\"Outflow_Discharge\"], color=\"green\")\n",
    "ax[2].fill_between(df_Thein.index, df_Thein[\"Outflow_Discharge\"], color=\"green\", alpha=.4, label=\"Thein Dam\")\n",
    "\n",
    "\n",
    "for eachAx, df, name, color in zip(\n",
    "    ax, \n",
    "    [df_pong, df_bhakra, df_Thein], \n",
    "    [\"Pong Dam\", \"Bhakra Dam\", \"Thein Dam\"],\n",
    "    [\"blue\", \"orange\", \"green\"]\n",
    "):\n",
    "    eachAx.grid(axis=\"y\", alpha=0.5, linestyle=\"-.\")\n",
    "\n",
    "    peak_idx = df[\"Outflow_Discharge\"].idxmax()\n",
    "    peak_val = df[\"Outflow_Discharge\"].max()\n",
    "\n",
    "\n",
    "    eachAx.axvline(peak_idx, linestyle=\"--\", color=\"black\", linewidth=1.2, alpha=0.8)\n",
    "\n",
    "\n",
    "    eachAx.set(ylabel=\"Outflow (cusecs)\")\n",
    "    eachAx.legend(\n",
    "        title=\"Peak Date\",\n",
    "        labels=[f\"{name}: {peak_idx.date()}\"],\n",
    "        fontsize=9,\n",
    "        title_fontsize=9,\n",
    "        loc=\"upper left\",\n",
    "        frameon=True,\n",
    "        fancybox=True,\n",
    "        shadow=True,\n",
    "        framealpha=0.8,\n",
    "        facecolor=\"white\",\n",
    "        edgecolor=\"black\"\n",
    "    )\n",
    "\n",
    "    tail_x = peak_idx - pd.Timedelta(days=5)\n",
    "    tail_y = peak_val\n",
    "    head_x = peak_idx\n",
    "    head_y = peak_val\n",
    "\n",
    "\n",
    "    arrow = FancyArrowPatch(\n",
    "        (tail_x, tail_y), (head_x, head_y),\n",
    "        connectionstyle=\"arc3,rad=-0.25\",  \n",
    "        arrowstyle=\"->\",\n",
    "        mutation_scale=14,\n",
    "        color=color,\n",
    "        lw=1.6,\n",
    "        transform=eachAx.transData,   \n",
    "        clip_on=False                 \n",
    "    )\n",
    "    eachAx.add_patch(arrow)\n",
    "\n",
    "\n",
    "    eachAx.text(\n",
    "        tail_x, tail_y,\n",
    "        f\"Max: {peak_val:,.0f} cusecs\",\n",
    "        ha=\"right\", va=\"bottom\",\n",
    "        fontsize=9, fontweight=\"bold\", color=color\n",
    "    )\n",
    "\n",
    "sns.despine()\n",
    "\n",
    "\n",
    "text = \"\"\"<Outflow> Analysis of\\n<Pong>, <Bhakra> and <Thein Dam>\n",
    "\"\"\"\n",
    "fig_text(0.06, 1.13, text, fontsize=24, ha='left', va='top', color='black', highlight_textprops=[{\"fontweight\": \"bold\"} ,{\"fontweight\": \"bold\", \"color\": \"blue\"}, {\"fontweight\": \"bold\", \"color\": \"orange\"}, {\"fontweight\": \"bold\", \"color\": \"green\"}])\n",
    "\n",
    "fig.savefig(\"easternSideOutFlows.png\", dpi=600, bbox_inches='tight')"
   ]
  },
  {
   "cell_type": "code",
   "execution_count": 34,
   "id": "030ab791",
   "metadata": {},
   "outputs": [
    {
     "name": "stdout",
     "output_type": "stream",
     "text": [
      "Total Amount of water released by India from Pong Dam till 04 Aug 2025: 3.92 BCM\n"
     ]
    }
   ],
   "source": [
    "dt = (df_pong.index[1] - df_pong.index[0]).total_seconds()\n",
    "net_flow = df_pong[\"Inflow_Discharge\"] - df_pong[\"Outflow_Discharge\"]\n",
    "dV = net_flow * dt\n",
    "\n",
    "volume_in = np.trapezoid (df_pong[\"Inflow_Discharge\"], dx=dt)\n",
    "volume_out = np.trapezoid (df_pong[\"Outflow_Discharge\"], dx=dt)\n",
    "delta_s = volume_in - volume_out\n",
    "print(f\"Total Amount of water released by India from Pong Dam till 04 Aug 2025: {delta_s * 1e-9 / 35.3147:.2f} BCM\")"
   ]
  },
  {
   "cell_type": "code",
   "execution_count": 35,
   "id": "fa06ac67",
   "metadata": {},
   "outputs": [
    {
     "name": "stdout",
     "output_type": "stream",
     "text": [
      "Total Amount of water released by India from Bhakra Dam till 04 Aug 2025: 2.52 BCM\n"
     ]
    }
   ],
   "source": [
    "volume_in = np.trapezoid (df_bhakra[\"Inflow_Discharge\"], dx=dt)\n",
    "volume_out = np.trapezoid (df_bhakra[\"Outflow_Discharge\"], dx=dt)\n",
    "delta_s = volume_in - volume_out\n",
    "print(f\"Total Amount of water released by India from Bhakra Dam till 04 Aug 2025: {delta_s * 1e-9 / 35.3147:.2f} BCM\")"
   ]
  },
  {
   "cell_type": "code",
   "execution_count": 36,
   "id": "422e1864",
   "metadata": {},
   "outputs": [
    {
     "name": "stdout",
     "output_type": "stream",
     "text": [
      "Total Amount of water released by India from Thein Dam till 04 Aug 2025: 0.61 BCM\n"
     ]
    }
   ],
   "source": [
    "volume_in = np.trapezoid (df_Thein[\"Inflow_Discharge\"], dx=dt)\n",
    "volume_out = np.trapezoid (df_Thein[\"Outflow_Discharge\"], dx=dt)\n",
    "delta_s = volume_in - volume_out\n",
    "print(f\"Total Amount of water released by India from Thein Dam till 04 Aug 2025: {delta_s * 1e-9 / 35.3147:.2f} BCM\")"
   ]
  },
  {
   "cell_type": "code",
   "execution_count": 37,
   "id": "6cf15bf9",
   "metadata": {},
   "outputs": [
    {
     "name": "stdout",
     "output_type": "stream",
     "text": [
      "total water from pong and bhakra dam: 6.44 BCM\n",
      "Arrigation diverted water: 3.89 BCM\n"
     ]
    }
   ],
   "source": [
    "print(f\"total water from pong and bhakra dam: {2.52 + 3.92:.2f} BCM\")\n",
    "print(f\"Arrigation diverted water: {6.44 - 2.55:.2f} BCM\")"
   ]
  },
  {
   "cell_type": "code",
   "execution_count": 31,
   "id": "f315fd1c",
   "metadata": {},
   "outputs": [
    {
     "data": {
      "application/vnd.microsoft.datawrangler.viewer.v0+json": {
       "columns": [
        {
         "name": "Date",
         "rawType": "datetime64[ns]",
         "type": "datetime"
        },
        {
         "name": "Name of Structure",
         "rawType": "object",
         "type": "string"
        },
        {
         "name": "Inflow_Discharge",
         "rawType": "float64",
         "type": "float"
        },
        {
         "name": "Outflow_Discharge",
         "rawType": "float64",
         "type": "float"
        },
        {
         "name": "River",
         "rawType": "object",
         "type": "string"
        }
       ],
       "ref": "756a5f36-f158-4553-b473-cf646e233fcd",
       "rows": [
        [
         "2025-06-25 06:00:00",
         "Harike",
         "19996.0",
         "2010.0",
         "Sutlej"
        ],
        [
         "2025-06-27 06:00:00",
         "Harike",
         "21496.0",
         "2010.0",
         "Sutlej"
        ],
        [
         "2025-07-01 06:00:00",
         "Harike",
         "22498.0",
         "2010.0",
         "Sutlej"
        ],
        [
         "2025-07-03 06:00:00",
         "Harike",
         "19500.0",
         "2036.0",
         "Sutlej"
        ],
        [
         "2025-07-07 06:00:00",
         "Harike",
         "24286.0",
         "3000.0",
         "Sutlej"
        ],
        [
         "2025-07-07 06:00:00",
         "Harike",
         "24622.0",
         "2036.0",
         "Sutlej"
        ],
        [
         "2025-07-08 06:00:00",
         "Harike",
         "24596.0",
         "2010.0",
         "Sutlej"
        ],
        [
         "2025-07-10 06:00:00",
         "Harike",
         "24925.0",
         "2036.0",
         "Sutlej"
        ],
        [
         "2025-07-11 06:00:00",
         "Harike",
         "24964.0",
         "2036.0",
         "Sutlej"
        ],
        [
         "2025-07-14 06:00:00",
         "Harike",
         "24964.0",
         "2036.0",
         "Sutlej"
        ],
        [
         "2025-07-15 06:00:00",
         "Harike",
         "23831.0",
         "1500.0",
         "Sutlej"
        ],
        [
         "2025-07-16 06:00:00",
         "Harike",
         "23831.0",
         "1500.0",
         "Sutlej"
        ],
        [
         "2025-07-18 06:00:00",
         "Harike",
         "23831.0",
         "1500.0",
         "Sutlej"
        ],
        [
         "2025-07-19 06:00:00",
         "Harike",
         "24443.0",
         "1950.0",
         "Sutlej"
        ],
        [
         "2025-07-23 06:00:00",
         "Harike",
         "24443.0",
         "1950.0",
         "Sutlej"
        ],
        [
         "2025-07-26 06:00:00",
         "Harike",
         "24855.0",
         "1950.0",
         "Sutlej"
        ],
        [
         "2025-07-27 06:00:00",
         "Harike",
         "24055.0",
         "1950.0",
         "Sutlej"
        ],
        [
         "2025-07-28 06:00:00",
         "Harike",
         "23343.0",
         "1950.0",
         "Sutlej"
        ],
        [
         "2025-08-01 06:00:00",
         "Harike",
         "25373.0",
         "1980.0",
         "Sutlej"
        ],
        [
         "2025-08-02 06:00:00",
         "Harike",
         "25673.0",
         "1980.0",
         "Sutlej"
        ],
        [
         "2025-08-03 06:00:00",
         "Harike",
         "24448.0",
         "1360.0",
         "Sutlej"
        ],
        [
         "2025-08-04 06:00:00",
         "Harike",
         "24258.0",
         "1380.0",
         "Sutlej"
        ],
        [
         "2025-08-05 06:00:00",
         "Harike",
         "47418.0",
         "24372.0",
         "Sutlej"
        ],
        [
         "2025-08-06 06:00:00",
         "Harike",
         "41233.0",
         "18187.0",
         "Sutlej"
        ],
        [
         "2025-08-07 06:00:00",
         "Harike",
         "44237.0",
         "21181.0",
         "Sutlej"
        ],
        [
         "2025-08-08 06:00:00",
         "Harike",
         "50541.0",
         "27633.0",
         "Sutlej"
        ],
        [
         "2025-08-10 06:00:00",
         "Harike",
         "61702.0",
         "43224.0",
         "Sutlej"
        ],
        [
         "2025-08-11 06:00:00",
         "Harike",
         "65417.0",
         "44273.0",
         "Sutlej"
        ],
        [
         "2025-08-12 06:00:00",
         "Harike",
         "73613.0",
         "52679.0",
         "Sutlej"
        ],
        [
         "2025-08-13 06:00:00",
         "Harike",
         "64480.0",
         "44014.0",
         "Sutlej"
        ],
        [
         "2025-08-14 06:00:00",
         "Harike",
         "66233.0",
         "44014.0",
         "Sutlej"
        ],
        [
         "2025-08-15 06:00:00",
         "Harike",
         "101725.0",
         "79506.0",
         "Sutlej"
        ],
        [
         "2025-08-16 06:00:00",
         "Harike",
         "108383.0",
         "86364.0",
         "Sutlej"
        ],
        [
         "2025-08-17 06:00:00",
         "Harike",
         "110771.0",
         "88752.0",
         "Sutlej"
        ],
        [
         "2025-08-20 06:00:00",
         "Harike",
         "92260.0",
         "70241.0",
         "Sutlej"
        ],
        [
         "2025-08-21 06:00:00",
         "Harike",
         "106779.0",
         "84760.0",
         "Sutlej"
        ],
        [
         "2025-08-22 06:00:00",
         "Harike",
         "144909.0",
         "122890.0",
         "Sutlej"
        ],
        [
         "2025-08-23 06:00:00",
         "Harike",
         "146120.0",
         "124101.0",
         "Sutlej"
        ],
        [
         "2025-08-24 06:00:00",
         "Harike",
         "134893.0",
         "112874.0",
         "Sutlej"
        ],
        [
         "2025-08-25 09:04:00",
         "Harike",
         "159797.0",
         "140676.0",
         "Sutlej"
        ],
        [
         "2025-08-25 11:30:00",
         "Harike",
         "181000.0",
         "160000.0",
         "Sutlej"
        ],
        [
         "2025-08-26 06:00:00",
         "Harike",
         "274024.0",
         "260359.0",
         "Sutlej"
        ],
        [
         "2025-08-27 06:00:00",
         "Harike",
         "274024.0",
         "260359.0",
         "Sutlej"
        ],
        [
         "2025-08-28 06:00:00",
         "Harike",
         "275881.0",
         "262216.0",
         "Sutlej"
        ],
        [
         "2025-08-29 06:00:00",
         "Harike",
         "275881.0",
         "262216.0",
         "Sutlej"
        ],
        [
         "2025-08-30 06:00:00",
         "Harike",
         "270030.0",
         "255695.0",
         "Sutlej"
        ],
        [
         "2025-08-31 06:00:00",
         "Harike",
         "266392.0",
         "252067.0",
         "Sutlej"
        ],
        [
         "2025-09-01 06:00:00",
         "Harike",
         "280467.0",
         "267192.0",
         "Sutlej"
        ],
        [
         "2025-09-02 06:00:00",
         "Harike",
         "290929.0",
         "274058.0",
         "Sutlej"
        ],
        [
         "2025-09-02 18:00:00",
         "Harike",
         "305554.0",
         "288683.0",
         "Sutlej"
        ]
       ],
       "shape": {
        "columns": 4,
        "rows": 52
       }
      },
      "text/html": [
       "<div>\n",
       "<style scoped>\n",
       "    .dataframe tbody tr th:only-of-type {\n",
       "        vertical-align: middle;\n",
       "    }\n",
       "\n",
       "    .dataframe tbody tr th {\n",
       "        vertical-align: top;\n",
       "    }\n",
       "\n",
       "    .dataframe thead th {\n",
       "        text-align: right;\n",
       "    }\n",
       "</style>\n",
       "<table border=\"1\" class=\"dataframe\">\n",
       "  <thead>\n",
       "    <tr style=\"text-align: right;\">\n",
       "      <th></th>\n",
       "      <th>Name of Structure</th>\n",
       "      <th>Inflow_Discharge</th>\n",
       "      <th>Outflow_Discharge</th>\n",
       "      <th>River</th>\n",
       "    </tr>\n",
       "    <tr>\n",
       "      <th>Date</th>\n",
       "      <th></th>\n",
       "      <th></th>\n",
       "      <th></th>\n",
       "      <th></th>\n",
       "    </tr>\n",
       "  </thead>\n",
       "  <tbody>\n",
       "    <tr>\n",
       "      <th>2025-06-25 06:00:00</th>\n",
       "      <td>Harike</td>\n",
       "      <td>19996.0</td>\n",
       "      <td>2010.0</td>\n",
       "      <td>Sutlej</td>\n",
       "    </tr>\n",
       "    <tr>\n",
       "      <th>2025-06-27 06:00:00</th>\n",
       "      <td>Harike</td>\n",
       "      <td>21496.0</td>\n",
       "      <td>2010.0</td>\n",
       "      <td>Sutlej</td>\n",
       "    </tr>\n",
       "    <tr>\n",
       "      <th>2025-07-01 06:00:00</th>\n",
       "      <td>Harike</td>\n",
       "      <td>22498.0</td>\n",
       "      <td>2010.0</td>\n",
       "      <td>Sutlej</td>\n",
       "    </tr>\n",
       "    <tr>\n",
       "      <th>2025-07-03 06:00:00</th>\n",
       "      <td>Harike</td>\n",
       "      <td>19500.0</td>\n",
       "      <td>2036.0</td>\n",
       "      <td>Sutlej</td>\n",
       "    </tr>\n",
       "    <tr>\n",
       "      <th>2025-07-07 06:00:00</th>\n",
       "      <td>Harike</td>\n",
       "      <td>24286.0</td>\n",
       "      <td>3000.0</td>\n",
       "      <td>Sutlej</td>\n",
       "    </tr>\n",
       "    <tr>\n",
       "      <th>2025-07-07 06:00:00</th>\n",
       "      <td>Harike</td>\n",
       "      <td>24622.0</td>\n",
       "      <td>2036.0</td>\n",
       "      <td>Sutlej</td>\n",
       "    </tr>\n",
       "    <tr>\n",
       "      <th>2025-07-08 06:00:00</th>\n",
       "      <td>Harike</td>\n",
       "      <td>24596.0</td>\n",
       "      <td>2010.0</td>\n",
       "      <td>Sutlej</td>\n",
       "    </tr>\n",
       "    <tr>\n",
       "      <th>2025-07-10 06:00:00</th>\n",
       "      <td>Harike</td>\n",
       "      <td>24925.0</td>\n",
       "      <td>2036.0</td>\n",
       "      <td>Sutlej</td>\n",
       "    </tr>\n",
       "    <tr>\n",
       "      <th>2025-07-11 06:00:00</th>\n",
       "      <td>Harike</td>\n",
       "      <td>24964.0</td>\n",
       "      <td>2036.0</td>\n",
       "      <td>Sutlej</td>\n",
       "    </tr>\n",
       "    <tr>\n",
       "      <th>2025-07-14 06:00:00</th>\n",
       "      <td>Harike</td>\n",
       "      <td>24964.0</td>\n",
       "      <td>2036.0</td>\n",
       "      <td>Sutlej</td>\n",
       "    </tr>\n",
       "    <tr>\n",
       "      <th>2025-07-15 06:00:00</th>\n",
       "      <td>Harike</td>\n",
       "      <td>23831.0</td>\n",
       "      <td>1500.0</td>\n",
       "      <td>Sutlej</td>\n",
       "    </tr>\n",
       "    <tr>\n",
       "      <th>2025-07-16 06:00:00</th>\n",
       "      <td>Harike</td>\n",
       "      <td>23831.0</td>\n",
       "      <td>1500.0</td>\n",
       "      <td>Sutlej</td>\n",
       "    </tr>\n",
       "    <tr>\n",
       "      <th>2025-07-18 06:00:00</th>\n",
       "      <td>Harike</td>\n",
       "      <td>23831.0</td>\n",
       "      <td>1500.0</td>\n",
       "      <td>Sutlej</td>\n",
       "    </tr>\n",
       "    <tr>\n",
       "      <th>2025-07-19 06:00:00</th>\n",
       "      <td>Harike</td>\n",
       "      <td>24443.0</td>\n",
       "      <td>1950.0</td>\n",
       "      <td>Sutlej</td>\n",
       "    </tr>\n",
       "    <tr>\n",
       "      <th>2025-07-23 06:00:00</th>\n",
       "      <td>Harike</td>\n",
       "      <td>24443.0</td>\n",
       "      <td>1950.0</td>\n",
       "      <td>Sutlej</td>\n",
       "    </tr>\n",
       "    <tr>\n",
       "      <th>2025-07-26 06:00:00</th>\n",
       "      <td>Harike</td>\n",
       "      <td>24855.0</td>\n",
       "      <td>1950.0</td>\n",
       "      <td>Sutlej</td>\n",
       "    </tr>\n",
       "    <tr>\n",
       "      <th>2025-07-27 06:00:00</th>\n",
       "      <td>Harike</td>\n",
       "      <td>24055.0</td>\n",
       "      <td>1950.0</td>\n",
       "      <td>Sutlej</td>\n",
       "    </tr>\n",
       "    <tr>\n",
       "      <th>2025-07-28 06:00:00</th>\n",
       "      <td>Harike</td>\n",
       "      <td>23343.0</td>\n",
       "      <td>1950.0</td>\n",
       "      <td>Sutlej</td>\n",
       "    </tr>\n",
       "    <tr>\n",
       "      <th>2025-08-01 06:00:00</th>\n",
       "      <td>Harike</td>\n",
       "      <td>25373.0</td>\n",
       "      <td>1980.0</td>\n",
       "      <td>Sutlej</td>\n",
       "    </tr>\n",
       "    <tr>\n",
       "      <th>2025-08-02 06:00:00</th>\n",
       "      <td>Harike</td>\n",
       "      <td>25673.0</td>\n",
       "      <td>1980.0</td>\n",
       "      <td>Sutlej</td>\n",
       "    </tr>\n",
       "    <tr>\n",
       "      <th>2025-08-03 06:00:00</th>\n",
       "      <td>Harike</td>\n",
       "      <td>24448.0</td>\n",
       "      <td>1360.0</td>\n",
       "      <td>Sutlej</td>\n",
       "    </tr>\n",
       "    <tr>\n",
       "      <th>2025-08-04 06:00:00</th>\n",
       "      <td>Harike</td>\n",
       "      <td>24258.0</td>\n",
       "      <td>1380.0</td>\n",
       "      <td>Sutlej</td>\n",
       "    </tr>\n",
       "    <tr>\n",
       "      <th>2025-08-05 06:00:00</th>\n",
       "      <td>Harike</td>\n",
       "      <td>47418.0</td>\n",
       "      <td>24372.0</td>\n",
       "      <td>Sutlej</td>\n",
       "    </tr>\n",
       "    <tr>\n",
       "      <th>2025-08-06 06:00:00</th>\n",
       "      <td>Harike</td>\n",
       "      <td>41233.0</td>\n",
       "      <td>18187.0</td>\n",
       "      <td>Sutlej</td>\n",
       "    </tr>\n",
       "    <tr>\n",
       "      <th>2025-08-07 06:00:00</th>\n",
       "      <td>Harike</td>\n",
       "      <td>44237.0</td>\n",
       "      <td>21181.0</td>\n",
       "      <td>Sutlej</td>\n",
       "    </tr>\n",
       "    <tr>\n",
       "      <th>2025-08-08 06:00:00</th>\n",
       "      <td>Harike</td>\n",
       "      <td>50541.0</td>\n",
       "      <td>27633.0</td>\n",
       "      <td>Sutlej</td>\n",
       "    </tr>\n",
       "    <tr>\n",
       "      <th>2025-08-10 06:00:00</th>\n",
       "      <td>Harike</td>\n",
       "      <td>61702.0</td>\n",
       "      <td>43224.0</td>\n",
       "      <td>Sutlej</td>\n",
       "    </tr>\n",
       "    <tr>\n",
       "      <th>2025-08-11 06:00:00</th>\n",
       "      <td>Harike</td>\n",
       "      <td>65417.0</td>\n",
       "      <td>44273.0</td>\n",
       "      <td>Sutlej</td>\n",
       "    </tr>\n",
       "    <tr>\n",
       "      <th>2025-08-12 06:00:00</th>\n",
       "      <td>Harike</td>\n",
       "      <td>73613.0</td>\n",
       "      <td>52679.0</td>\n",
       "      <td>Sutlej</td>\n",
       "    </tr>\n",
       "    <tr>\n",
       "      <th>2025-08-13 06:00:00</th>\n",
       "      <td>Harike</td>\n",
       "      <td>64480.0</td>\n",
       "      <td>44014.0</td>\n",
       "      <td>Sutlej</td>\n",
       "    </tr>\n",
       "    <tr>\n",
       "      <th>2025-08-14 06:00:00</th>\n",
       "      <td>Harike</td>\n",
       "      <td>66233.0</td>\n",
       "      <td>44014.0</td>\n",
       "      <td>Sutlej</td>\n",
       "    </tr>\n",
       "    <tr>\n",
       "      <th>2025-08-15 06:00:00</th>\n",
       "      <td>Harike</td>\n",
       "      <td>101725.0</td>\n",
       "      <td>79506.0</td>\n",
       "      <td>Sutlej</td>\n",
       "    </tr>\n",
       "    <tr>\n",
       "      <th>2025-08-16 06:00:00</th>\n",
       "      <td>Harike</td>\n",
       "      <td>108383.0</td>\n",
       "      <td>86364.0</td>\n",
       "      <td>Sutlej</td>\n",
       "    </tr>\n",
       "    <tr>\n",
       "      <th>2025-08-17 06:00:00</th>\n",
       "      <td>Harike</td>\n",
       "      <td>110771.0</td>\n",
       "      <td>88752.0</td>\n",
       "      <td>Sutlej</td>\n",
       "    </tr>\n",
       "    <tr>\n",
       "      <th>2025-08-20 06:00:00</th>\n",
       "      <td>Harike</td>\n",
       "      <td>92260.0</td>\n",
       "      <td>70241.0</td>\n",
       "      <td>Sutlej</td>\n",
       "    </tr>\n",
       "    <tr>\n",
       "      <th>2025-08-21 06:00:00</th>\n",
       "      <td>Harike</td>\n",
       "      <td>106779.0</td>\n",
       "      <td>84760.0</td>\n",
       "      <td>Sutlej</td>\n",
       "    </tr>\n",
       "    <tr>\n",
       "      <th>2025-08-22 06:00:00</th>\n",
       "      <td>Harike</td>\n",
       "      <td>144909.0</td>\n",
       "      <td>122890.0</td>\n",
       "      <td>Sutlej</td>\n",
       "    </tr>\n",
       "    <tr>\n",
       "      <th>2025-08-23 06:00:00</th>\n",
       "      <td>Harike</td>\n",
       "      <td>146120.0</td>\n",
       "      <td>124101.0</td>\n",
       "      <td>Sutlej</td>\n",
       "    </tr>\n",
       "    <tr>\n",
       "      <th>2025-08-24 06:00:00</th>\n",
       "      <td>Harike</td>\n",
       "      <td>134893.0</td>\n",
       "      <td>112874.0</td>\n",
       "      <td>Sutlej</td>\n",
       "    </tr>\n",
       "    <tr>\n",
       "      <th>2025-08-25 09:04:00</th>\n",
       "      <td>Harike</td>\n",
       "      <td>159797.0</td>\n",
       "      <td>140676.0</td>\n",
       "      <td>Sutlej</td>\n",
       "    </tr>\n",
       "    <tr>\n",
       "      <th>2025-08-25 11:30:00</th>\n",
       "      <td>Harike</td>\n",
       "      <td>181000.0</td>\n",
       "      <td>160000.0</td>\n",
       "      <td>Sutlej</td>\n",
       "    </tr>\n",
       "    <tr>\n",
       "      <th>2025-08-26 06:00:00</th>\n",
       "      <td>Harike</td>\n",
       "      <td>274024.0</td>\n",
       "      <td>260359.0</td>\n",
       "      <td>Sutlej</td>\n",
       "    </tr>\n",
       "    <tr>\n",
       "      <th>2025-08-27 06:00:00</th>\n",
       "      <td>Harike</td>\n",
       "      <td>274024.0</td>\n",
       "      <td>260359.0</td>\n",
       "      <td>Sutlej</td>\n",
       "    </tr>\n",
       "    <tr>\n",
       "      <th>2025-08-28 06:00:00</th>\n",
       "      <td>Harike</td>\n",
       "      <td>275881.0</td>\n",
       "      <td>262216.0</td>\n",
       "      <td>Sutlej</td>\n",
       "    </tr>\n",
       "    <tr>\n",
       "      <th>2025-08-29 06:00:00</th>\n",
       "      <td>Harike</td>\n",
       "      <td>275881.0</td>\n",
       "      <td>262216.0</td>\n",
       "      <td>Sutlej</td>\n",
       "    </tr>\n",
       "    <tr>\n",
       "      <th>2025-08-30 06:00:00</th>\n",
       "      <td>Harike</td>\n",
       "      <td>270030.0</td>\n",
       "      <td>255695.0</td>\n",
       "      <td>Sutlej</td>\n",
       "    </tr>\n",
       "    <tr>\n",
       "      <th>2025-08-31 06:00:00</th>\n",
       "      <td>Harike</td>\n",
       "      <td>266392.0</td>\n",
       "      <td>252067.0</td>\n",
       "      <td>Sutlej</td>\n",
       "    </tr>\n",
       "    <tr>\n",
       "      <th>2025-09-01 06:00:00</th>\n",
       "      <td>Harike</td>\n",
       "      <td>280467.0</td>\n",
       "      <td>267192.0</td>\n",
       "      <td>Sutlej</td>\n",
       "    </tr>\n",
       "    <tr>\n",
       "      <th>2025-09-02 06:00:00</th>\n",
       "      <td>Harike</td>\n",
       "      <td>290929.0</td>\n",
       "      <td>274058.0</td>\n",
       "      <td>Sutlej</td>\n",
       "    </tr>\n",
       "    <tr>\n",
       "      <th>2025-09-02 18:00:00</th>\n",
       "      <td>Harike</td>\n",
       "      <td>305554.0</td>\n",
       "      <td>288683.0</td>\n",
       "      <td>Sutlej</td>\n",
       "    </tr>\n",
       "    <tr>\n",
       "      <th>2025-09-03 06:00:00</th>\n",
       "      <td>Harike</td>\n",
       "      <td>335030.0</td>\n",
       "      <td>318159.0</td>\n",
       "      <td>Sutlej</td>\n",
       "    </tr>\n",
       "    <tr>\n",
       "      <th>2025-09-04 06:00:00</th>\n",
       "      <td>Harike</td>\n",
       "      <td>347548.0</td>\n",
       "      <td>330677.0</td>\n",
       "      <td>Sutlej</td>\n",
       "    </tr>\n",
       "  </tbody>\n",
       "</table>\n",
       "</div>"
      ],
      "text/plain": [
       "                    Name of Structure  Inflow_Discharge  Outflow_Discharge  \\\n",
       "Date                                                                         \n",
       "2025-06-25 06:00:00            Harike           19996.0             2010.0   \n",
       "2025-06-27 06:00:00            Harike           21496.0             2010.0   \n",
       "2025-07-01 06:00:00            Harike           22498.0             2010.0   \n",
       "2025-07-03 06:00:00            Harike           19500.0             2036.0   \n",
       "2025-07-07 06:00:00            Harike           24286.0             3000.0   \n",
       "2025-07-07 06:00:00            Harike           24622.0             2036.0   \n",
       "2025-07-08 06:00:00            Harike           24596.0             2010.0   \n",
       "2025-07-10 06:00:00            Harike           24925.0             2036.0   \n",
       "2025-07-11 06:00:00            Harike           24964.0             2036.0   \n",
       "2025-07-14 06:00:00            Harike           24964.0             2036.0   \n",
       "2025-07-15 06:00:00            Harike           23831.0             1500.0   \n",
       "2025-07-16 06:00:00            Harike           23831.0             1500.0   \n",
       "2025-07-18 06:00:00            Harike           23831.0             1500.0   \n",
       "2025-07-19 06:00:00            Harike           24443.0             1950.0   \n",
       "2025-07-23 06:00:00            Harike           24443.0             1950.0   \n",
       "2025-07-26 06:00:00            Harike           24855.0             1950.0   \n",
       "2025-07-27 06:00:00            Harike           24055.0             1950.0   \n",
       "2025-07-28 06:00:00            Harike           23343.0             1950.0   \n",
       "2025-08-01 06:00:00            Harike           25373.0             1980.0   \n",
       "2025-08-02 06:00:00            Harike           25673.0             1980.0   \n",
       "2025-08-03 06:00:00            Harike           24448.0             1360.0   \n",
       "2025-08-04 06:00:00            Harike           24258.0             1380.0   \n",
       "2025-08-05 06:00:00            Harike           47418.0            24372.0   \n",
       "2025-08-06 06:00:00            Harike           41233.0            18187.0   \n",
       "2025-08-07 06:00:00            Harike           44237.0            21181.0   \n",
       "2025-08-08 06:00:00            Harike           50541.0            27633.0   \n",
       "2025-08-10 06:00:00            Harike           61702.0            43224.0   \n",
       "2025-08-11 06:00:00            Harike           65417.0            44273.0   \n",
       "2025-08-12 06:00:00            Harike           73613.0            52679.0   \n",
       "2025-08-13 06:00:00            Harike           64480.0            44014.0   \n",
       "2025-08-14 06:00:00            Harike           66233.0            44014.0   \n",
       "2025-08-15 06:00:00            Harike          101725.0            79506.0   \n",
       "2025-08-16 06:00:00            Harike          108383.0            86364.0   \n",
       "2025-08-17 06:00:00            Harike          110771.0            88752.0   \n",
       "2025-08-20 06:00:00            Harike           92260.0            70241.0   \n",
       "2025-08-21 06:00:00            Harike          106779.0            84760.0   \n",
       "2025-08-22 06:00:00            Harike          144909.0           122890.0   \n",
       "2025-08-23 06:00:00            Harike          146120.0           124101.0   \n",
       "2025-08-24 06:00:00            Harike          134893.0           112874.0   \n",
       "2025-08-25 09:04:00            Harike          159797.0           140676.0   \n",
       "2025-08-25 11:30:00            Harike          181000.0           160000.0   \n",
       "2025-08-26 06:00:00            Harike          274024.0           260359.0   \n",
       "2025-08-27 06:00:00            Harike          274024.0           260359.0   \n",
       "2025-08-28 06:00:00            Harike          275881.0           262216.0   \n",
       "2025-08-29 06:00:00            Harike          275881.0           262216.0   \n",
       "2025-08-30 06:00:00            Harike          270030.0           255695.0   \n",
       "2025-08-31 06:00:00            Harike          266392.0           252067.0   \n",
       "2025-09-01 06:00:00            Harike          280467.0           267192.0   \n",
       "2025-09-02 06:00:00            Harike          290929.0           274058.0   \n",
       "2025-09-02 18:00:00            Harike          305554.0           288683.0   \n",
       "2025-09-03 06:00:00            Harike          335030.0           318159.0   \n",
       "2025-09-04 06:00:00            Harike          347548.0           330677.0   \n",
       "\n",
       "                      River  \n",
       "Date                         \n",
       "2025-06-25 06:00:00  Sutlej  \n",
       "2025-06-27 06:00:00  Sutlej  \n",
       "2025-07-01 06:00:00  Sutlej  \n",
       "2025-07-03 06:00:00  Sutlej  \n",
       "2025-07-07 06:00:00  Sutlej  \n",
       "2025-07-07 06:00:00  Sutlej  \n",
       "2025-07-08 06:00:00  Sutlej  \n",
       "2025-07-10 06:00:00  Sutlej  \n",
       "2025-07-11 06:00:00  Sutlej  \n",
       "2025-07-14 06:00:00  Sutlej  \n",
       "2025-07-15 06:00:00  Sutlej  \n",
       "2025-07-16 06:00:00  Sutlej  \n",
       "2025-07-18 06:00:00  Sutlej  \n",
       "2025-07-19 06:00:00  Sutlej  \n",
       "2025-07-23 06:00:00  Sutlej  \n",
       "2025-07-26 06:00:00  Sutlej  \n",
       "2025-07-27 06:00:00  Sutlej  \n",
       "2025-07-28 06:00:00  Sutlej  \n",
       "2025-08-01 06:00:00  Sutlej  \n",
       "2025-08-02 06:00:00  Sutlej  \n",
       "2025-08-03 06:00:00  Sutlej  \n",
       "2025-08-04 06:00:00  Sutlej  \n",
       "2025-08-05 06:00:00  Sutlej  \n",
       "2025-08-06 06:00:00  Sutlej  \n",
       "2025-08-07 06:00:00  Sutlej  \n",
       "2025-08-08 06:00:00  Sutlej  \n",
       "2025-08-10 06:00:00  Sutlej  \n",
       "2025-08-11 06:00:00  Sutlej  \n",
       "2025-08-12 06:00:00  Sutlej  \n",
       "2025-08-13 06:00:00  Sutlej  \n",
       "2025-08-14 06:00:00  Sutlej  \n",
       "2025-08-15 06:00:00  Sutlej  \n",
       "2025-08-16 06:00:00  Sutlej  \n",
       "2025-08-17 06:00:00  Sutlej  \n",
       "2025-08-20 06:00:00  Sutlej  \n",
       "2025-08-21 06:00:00  Sutlej  \n",
       "2025-08-22 06:00:00  Sutlej  \n",
       "2025-08-23 06:00:00  Sutlej  \n",
       "2025-08-24 06:00:00  Sutlej  \n",
       "2025-08-25 09:04:00  Sutlej  \n",
       "2025-08-25 11:30:00  Sutlej  \n",
       "2025-08-26 06:00:00  Sutlej  \n",
       "2025-08-27 06:00:00  Sutlej  \n",
       "2025-08-28 06:00:00  Sutlej  \n",
       "2025-08-29 06:00:00  Sutlej  \n",
       "2025-08-30 06:00:00  Sutlej  \n",
       "2025-08-31 06:00:00  Sutlej  \n",
       "2025-09-01 06:00:00  Sutlej  \n",
       "2025-09-02 06:00:00  Sutlej  \n",
       "2025-09-02 18:00:00  Sutlej  \n",
       "2025-09-03 06:00:00  Sutlej  \n",
       "2025-09-04 06:00:00  Sutlej  "
      ]
     },
     "execution_count": 31,
     "metadata": {},
     "output_type": "execute_result"
    }
   ],
   "source": [
    "harike = pd.read_csv(\"pm_dashboard_data.csv\")\n",
    "harike[\"Date\"] = pd.to_datetime(harike[\"Date\"], dayfirst=True)\n",
    "harike = harike.set_index(\"Date\")\n",
    "harike = harike.loc[harike[\"Name of Structure\"] == \"Harike\"]\n",
    "harike"
   ]
  },
  {
   "cell_type": "code",
   "execution_count": 41,
   "id": "e0938127",
   "metadata": {},
   "outputs": [
    {
     "data": {
      "image/png": "[encoded data removed]",
      "text/plain": [
       "<Figure size 1200x600 with 1 Axes>"
      ]
     },
     "metadata": {},
     "output_type": "display_data"
    }
   ],
   "source": [
    "fig, ax = plt.subplots(figsize=(12, 6))\n",
    "ax.grid(axis=\"y\", alpha=0.5, linestyle=\"-.\")\n",
    "ax.plot(harike.index, harike[\"Outflow_Discharge\"], color=\"green\")\n",
    "ax.fill_between(harike.index, harike[\"Outflow_Discharge\"], color=\"green\", alpha=.4)\n",
    "\n",
    "peak_idx = harike[\"Outflow_Discharge\"].idxmax()\n",
    "peak_val = harike[\"Outflow_Discharge\"].max()\n",
    "\n",
    "\n",
    "tail_x = peak_idx - pd.Timedelta(days=5)\n",
    "tail_y = peak_val\n",
    "head_x = peak_idx\n",
    "head_y = peak_val\n",
    "\n",
    "\n",
    "arrow = FancyArrowPatch(\n",
    "    (tail_x, tail_y), (head_x, head_y),\n",
    "    connectionstyle=\"arc3,rad=-0.25\",  \n",
    "    arrowstyle=\"->\",\n",
    "    mutation_scale=14,\n",
    "    color=\"green\",   # ✅ fixed\n",
    "    lw=1.6,\n",
    "    transform=ax.transData,\n",
    "    clip_on=False\n",
    ")\n",
    "ax.add_patch(arrow)\n",
    "\n",
    "ax.text(\n",
    "    tail_x, tail_y,\n",
    "    f\"Max: {peak_val:,.0f} cusecs\",\n",
    "    ha=\"right\", va=\"bottom\",\n",
    "    fontsize=9, fontweight=\"bold\", color=\"green\"  # ✅ fixed\n",
    ")\n",
    "\n",
    "ax.legend(\n",
    "    title=\"Peak Date\",\n",
    "    labels=[f\"Harike: {peak_idx.date()}\"],\n",
    "    fontsize=9,\n",
    "    title_fontsize=9,\n",
    "    loc=\"upper left\",\n",
    "    frameon=True,\n",
    "    fancybox=True,\n",
    "    shadow=True,\n",
    "    framealpha=0.8,\n",
    "    facecolor=\"white\",\n",
    "    edgecolor=\"black\"\n",
    ")\n",
    "\n",
    "text = \"\"\"<Outflow> Analysis of\\n<Harike> Barrage\n",
    "\"\"\"\n",
    "fig_text(0.13, 1.02, text, fontsize=24, ha='left', va='top', color='black', highlight_textprops=[{\"fontweight\": \"bold\"} ,{\"fontweight\": \"bold\", \"color\": \"green\"}])\n",
    "\n",
    "sns.despine()\n",
    "\n",
    "ax.set(ylabel=\"Outflow (cusecs)\")\n",
    "fig.savefig(\"outFlowAnalysisOfHarike.png\", dpi=600, bbox_inches='tight')"
   ]
  },
  {
   "cell_type": "code",
   "execution_count": 43,
   "id": "74cdf241",
   "metadata": {},
   "outputs": [
    {
     "name": "stdout",
     "output_type": "stream",
     "text": [
      "Total Amount of water released from Harike till 04 Aug 2025: 2.55 BCM\n"
     ]
    }
   ],
   "source": [
    "volume_in = np.trapezoid (harike[\"Inflow_Discharge\"], dx=dt)\n",
    "volume_out = np.trapezoid (harike[\"Outflow_Discharge\"], dx=dt)\n",
    "delta_s = volume_in - volume_out\n",
    "print(f\"Total Amount of water released from Harike till 04 Aug 2025: {delta_s * 1e-9 / 35.3147:.2f} BCM\")"
   ]
  },
  {
   "cell_type": "code",
   "execution_count": 44,
   "id": "d750b881",
   "metadata": {},
   "outputs": [
    {
     "data": {
      "application/vnd.microsoft.datawrangler.viewer.v0+json": {
       "columns": [
        {
         "name": "Date",
         "rawType": "datetime64[ns]",
         "type": "datetime"
        },
        {
         "name": "Name of Structure",
         "rawType": "object",
         "type": "string"
        },
        {
         "name": "Inflow_Discharge",
         "rawType": "float64",
         "type": "float"
        },
        {
         "name": "Outflow_Discharge",
         "rawType": "float64",
         "type": "float"
        },
        {
         "name": "River",
         "rawType": "object",
         "type": "string"
        }
       ],
       "ref": "872935b4-5a6e-4eb7-8e19-939be81a72a7",
       "rows": [
        [
         "2025-06-15 06:00:00",
         "Ganda Singh Wala",
         "0.0",
         "0.0",
         "Sutlej"
        ],
        [
         "2025-06-15 18:00:00",
         "Ganda Singh Wala",
         "300.0",
         "360.0",
         "Sutlej"
        ],
        [
         "2025-06-16 06:00:00",
         "Ganda Singh Wala",
         "300.0",
         "360.0",
         "Sutlej"
        ],
        [
         "2025-06-16 12:00:00",
         "Ganda Singh Wala",
         "300.0",
         "360.0",
         "Sutlej"
        ],
        [
         "2025-06-16 18:00:00",
         "Ganda Singh Wala",
         "300.0",
         "360.0",
         "Sutlej"
        ],
        [
         "2025-06-17 00:00:00",
         "Ganda Singh Wala",
         "300.0",
         "360.0",
         "Sutlej"
        ],
        [
         "2025-06-17 06:00:00",
         "Ganda Singh Wala",
         "300.0",
         "360.0",
         "Sutlej"
        ],
        [
         "2025-06-17 12:00:00",
         "Ganda Singh Wala",
         "300.0",
         "360.0",
         "Sutlej"
        ],
        [
         "2025-06-17 18:00:00",
         "Ganda Singh Wala",
         "0.0",
         "0.0",
         "Sutlej"
        ],
        [
         "2025-06-17 18:00:00",
         "Ganda Singh Wala",
         "0.0",
         "0.0",
         "Sutlej"
        ],
        [
         "2025-06-18 00:00:00",
         "Ganda Singh Wala",
         "0.0",
         "0.0",
         "Sutlej"
        ],
        [
         "2025-06-18 06:00:00",
         "Ganda Singh Wala",
         "0.0",
         "0.0",
         "Sutlej"
        ],
        [
         "2025-06-18 12:00:00",
         "Ganda Singh Wala",
         "0.0",
         "0.0",
         "Sutlej"
        ],
        [
         "2025-06-18 18:00:00",
         "Ganda Singh Wala",
         "0.0",
         "0.0",
         "Sutlej"
        ],
        [
         "2025-06-19 00:00:00",
         "Ganda Singh Wala",
         "0.0",
         "0.0",
         "Sutlej"
        ],
        [
         "2025-06-19 06:00:00",
         "Ganda Singh Wala",
         "0.0",
         "0.0",
         "Sutlej"
        ],
        [
         "2025-06-19 12:00:00",
         "Ganda Singh Wala",
         "0.0",
         "0.0",
         "Sutlej"
        ],
        [
         "2025-06-19 18:00:00",
         "Ganda Singh Wala",
         "0.0",
         "0.0",
         "Sutlej"
        ],
        [
         "2025-06-19 18:00:00",
         "Ganda Singh Wala",
         "0.0",
         "0.0",
         "Sutlej"
        ],
        [
         "2025-06-20 00:00:00",
         "Ganda Singh Wala",
         "0.0",
         "0.0",
         "Sutlej"
        ],
        [
         "2025-06-20 06:00:00",
         "Ganda Singh Wala",
         "0.0",
         "0.0",
         "Sutlej"
        ],
        [
         "2025-06-20 12:00:00",
         "Ganda Singh Wala",
         "0.0",
         "0.0",
         "Sutlej"
        ],
        [
         "2025-06-20 18:00:00",
         "Ganda Singh Wala",
         "0.0",
         "0.0",
         "Sutlej"
        ],
        [
         "2025-06-21 00:00:00",
         "Ganda Singh Wala",
         "0.0",
         "0.0",
         "Sutlej"
        ],
        [
         "2025-06-21 06:00:00",
         "Ganda Singh Wala",
         "0.0",
         "0.0",
         "Sutlej"
        ],
        [
         "2025-06-21 12:00:00",
         "Ganda Singh Wala",
         "0.0",
         "0.0",
         "Sutlej"
        ],
        [
         "2025-06-21 18:00:00",
         "Ganda Singh Wala",
         "0.0",
         "0.0",
         "Sutlej"
        ],
        [
         "2025-06-22 00:00:00",
         "Ganda Singh Wala",
         "0.0",
         "0.0",
         "Sutlej"
        ],
        [
         "2025-06-22 06:00:00",
         "Ganda Singh Wala",
         "0.0",
         "0.0",
         "Sutlej"
        ],
        [
         "2025-06-22 12:00:00",
         "Ganda Singh Wala",
         "33.0",
         "33.0",
         "Sutlej"
        ],
        [
         "2025-06-22 18:00:00",
         "Ganda Singh Wala",
         "33.0",
         "33.0",
         "Sutlej"
        ],
        [
         "2025-06-23 00:00:00",
         "Ganda Singh Wala",
         "33.0",
         "33.0",
         "Sutlej"
        ],
        [
         "2025-06-23 06:00:00",
         "Ganda Singh Wala",
         "33.0",
         "33.0",
         "Sutlej"
        ],
        [
         "2025-06-23 12:00:00",
         "Ganda Singh Wala",
         "33.0",
         "33.0",
         "Sutlej"
        ],
        [
         "2025-06-23 18:00:00",
         "Ganda Singh Wala",
         "0.0",
         "0.0",
         "Sutlej"
        ],
        [
         "2025-06-24 00:00:00",
         "Ganda Singh Wala",
         "0.0",
         "0.0",
         "Sutlej"
        ],
        [
         "2025-06-24 06:00:00",
         "Ganda Singh Wala",
         "0.0",
         "0.0",
         "Sutlej"
        ],
        [
         "2025-06-24 12:00:00",
         "Ganda Singh Wala",
         "0.0",
         "0.0",
         "Sutlej"
        ],
        [
         "2025-06-24 18:00:00",
         "Ganda Singh Wala",
         "0.0",
         "0.0",
         "Sutlej"
        ],
        [
         "2025-06-25 00:00:00",
         "Ganda Singh Wala",
         "0.0",
         "0.0",
         "Sutlej"
        ],
        [
         "2025-06-25 06:00:00",
         "Ganda Singh Wala",
         "0.0",
         "0.0",
         "Sutlej"
        ],
        [
         "2025-06-25 12:00:00",
         "Ganda Singh Wala",
         "0.0",
         "0.0",
         "Sutlej"
        ],
        [
         "2025-06-25 18:00:00",
         "Ganda Singh Wala",
         "0.0",
         "0.0",
         "Sutlej"
        ],
        [
         "2025-06-26 00:00:00",
         "Ganda Singh Wala",
         "0.0",
         "0.0",
         "Sutlej"
        ],
        [
         "2025-06-26 06:00:00",
         "Ganda Singh Wala",
         "0.0",
         "0.0",
         "Sutlej"
        ],
        [
         "2025-06-26 12:00:00",
         "Ganda Singh Wala",
         "0.0",
         "0.0",
         "Sutlej"
        ],
        [
         "2025-06-26 18:00:00",
         "Ganda Singh Wala",
         "0.0",
         "0.0",
         "Sutlej"
        ],
        [
         "2025-06-27 00:00:00",
         "Ganda Singh Wala",
         "0.0",
         "0.0",
         "Sutlej"
        ],
        [
         "2025-06-27 06:00:00",
         "Ganda Singh Wala",
         "0.0",
         "0.0",
         "Sutlej"
        ],
        [
         "2025-06-27 12:00:00",
         "Ganda Singh Wala",
         "0.0",
         "0.0",
         "Sutlej"
        ]
       ],
       "shape": {
        "columns": 4,
        "rows": 286
       }
      },
      "text/html": [
       "<div>\n",
       "<style scoped>\n",
       "    .dataframe tbody tr th:only-of-type {\n",
       "        vertical-align: middle;\n",
       "    }\n",
       "\n",
       "    .dataframe tbody tr th {\n",
       "        vertical-align: top;\n",
       "    }\n",
       "\n",
       "    .dataframe thead th {\n",
       "        text-align: right;\n",
       "    }\n",
       "</style>\n",
       "<table border=\"1\" class=\"dataframe\">\n",
       "  <thead>\n",
       "    <tr style=\"text-align: right;\">\n",
       "      <th></th>\n",
       "      <th>Name of Structure</th>\n",
       "      <th>Inflow_Discharge</th>\n",
       "      <th>Outflow_Discharge</th>\n",
       "      <th>River</th>\n",
       "    </tr>\n",
       "    <tr>\n",
       "      <th>Date</th>\n",
       "      <th></th>\n",
       "      <th></th>\n",
       "      <th></th>\n",
       "      <th></th>\n",
       "    </tr>\n",
       "  </thead>\n",
       "  <tbody>\n",
       "    <tr>\n",
       "      <th>2025-06-15 06:00:00</th>\n",
       "      <td>Ganda Singh Wala</td>\n",
       "      <td>0.0</td>\n",
       "      <td>0.0</td>\n",
       "      <td>Sutlej</td>\n",
       "    </tr>\n",
       "    <tr>\n",
       "      <th>2025-06-15 18:00:00</th>\n",
       "      <td>Ganda Singh Wala</td>\n",
       "      <td>300.0</td>\n",
       "      <td>360.0</td>\n",
       "      <td>Sutlej</td>\n",
       "    </tr>\n",
       "    <tr>\n",
       "      <th>2025-06-16 06:00:00</th>\n",
       "      <td>Ganda Singh Wala</td>\n",
       "      <td>300.0</td>\n",
       "      <td>360.0</td>\n",
       "      <td>Sutlej</td>\n",
       "    </tr>\n",
       "    <tr>\n",
       "      <th>2025-06-16 12:00:00</th>\n",
       "      <td>Ganda Singh Wala</td>\n",
       "      <td>300.0</td>\n",
       "      <td>360.0</td>\n",
       "      <td>Sutlej</td>\n",
       "    </tr>\n",
       "    <tr>\n",
       "      <th>2025-06-16 18:00:00</th>\n",
       "      <td>Ganda Singh Wala</td>\n",
       "      <td>300.0</td>\n",
       "      <td>360.0</td>\n",
       "      <td>Sutlej</td>\n",
       "    </tr>\n",
       "    <tr>\n",
       "      <th>...</th>\n",
       "      <td>...</td>\n",
       "      <td>...</td>\n",
       "      <td>...</td>\n",
       "      <td>...</td>\n",
       "    </tr>\n",
       "    <tr>\n",
       "      <th>2025-09-03 03:14:00</th>\n",
       "      <td>Ganda Singh Wala</td>\n",
       "      <td>269501.0</td>\n",
       "      <td>269501.0</td>\n",
       "      <td>Sutlej</td>\n",
       "    </tr>\n",
       "    <tr>\n",
       "      <th>2025-09-03 08:53:00</th>\n",
       "      <td>Ganda Singh Wala</td>\n",
       "      <td>269501.0</td>\n",
       "      <td>269501.0</td>\n",
       "      <td>Sutlej</td>\n",
       "    </tr>\n",
       "    <tr>\n",
       "      <th>2025-09-03 10:40:00</th>\n",
       "      <td>Ganda Singh Wala</td>\n",
       "      <td>269501.0</td>\n",
       "      <td>269501.0</td>\n",
       "      <td>Sutlej</td>\n",
       "    </tr>\n",
       "    <tr>\n",
       "      <th>2025-09-03 13:00:00</th>\n",
       "      <td>Ganda Singh Wala</td>\n",
       "      <td>269501.0</td>\n",
       "      <td>269501.0</td>\n",
       "      <td>Sutlej</td>\n",
       "    </tr>\n",
       "    <tr>\n",
       "      <th>2025-09-04 08:35:00</th>\n",
       "      <td>Ganda Singh Wala</td>\n",
       "      <td>319295.0</td>\n",
       "      <td>319295.0</td>\n",
       "      <td>Sutlej</td>\n",
       "    </tr>\n",
       "  </tbody>\n",
       "</table>\n",
       "<p>286 rows × 4 columns</p>\n",
       "</div>"
      ],
      "text/plain": [
       "                    Name of Structure  Inflow_Discharge  Outflow_Discharge  \\\n",
       "Date                                                                         \n",
       "2025-06-15 06:00:00  Ganda Singh Wala               0.0                0.0   \n",
       "2025-06-15 18:00:00  Ganda Singh Wala             300.0              360.0   \n",
       "2025-06-16 06:00:00  Ganda Singh Wala             300.0              360.0   \n",
       "2025-06-16 12:00:00  Ganda Singh Wala             300.0              360.0   \n",
       "2025-06-16 18:00:00  Ganda Singh Wala             300.0              360.0   \n",
       "...                               ...               ...                ...   \n",
       "2025-09-03 03:14:00  Ganda Singh Wala          269501.0           269501.0   \n",
       "2025-09-03 08:53:00  Ganda Singh Wala          269501.0           269501.0   \n",
       "2025-09-03 10:40:00  Ganda Singh Wala          269501.0           269501.0   \n",
       "2025-09-03 13:00:00  Ganda Singh Wala          269501.0           269501.0   \n",
       "2025-09-04 08:35:00  Ganda Singh Wala          319295.0           319295.0   \n",
       "\n",
       "                      River  \n",
       "Date                         \n",
       "2025-06-15 06:00:00  Sutlej  \n",
       "2025-06-15 18:00:00  Sutlej  \n",
       "2025-06-16 06:00:00  Sutlej  \n",
       "2025-06-16 12:00:00  Sutlej  \n",
       "2025-06-16 18:00:00  Sutlej  \n",
       "...                     ...  \n",
       "2025-09-03 03:14:00  Sutlej  \n",
       "2025-09-03 08:53:00  Sutlej  \n",
       "2025-09-03 10:40:00  Sutlej  \n",
       "2025-09-03 13:00:00  Sutlej  \n",
       "2025-09-04 08:35:00  Sutlej  \n",
       "\n",
       "[286 rows x 4 columns]"
      ]
     },
     "execution_count": 44,
     "metadata": {},
     "output_type": "execute_result"
    }
   ],
   "source": [
    "gsWala = pd.read_csv(\"pm_dashboard_data.csv\")\n",
    "gsWala[\"Date\"] = pd.to_datetime(gsWala[\"Date\"], dayfirst=True)\n",
    "gsWala = gsWala.set_index(\"Date\")\n",
    "gsWala = gsWala.loc[gsWala[\"Name of Structure\"] == \"Ganda Singh Wala\"].copy()\n",
    "gsWala"
   ]
  },
  {
   "cell_type": "code",
   "execution_count": 45,
   "id": "2c5c90da",
   "metadata": {},
   "outputs": [
    {
     "data": {
      "image/png": "[encoded data removed]",
      "text/plain": [
       "<Figure size 1200x500 with 1 Axes>"
      ]
     },
     "metadata": {},
     "output_type": "display_data"
    }
   ],
   "source": [
    "fig, ax = plt.subplots(figsize=(12, 5))\n",
    "ax.grid(axis=\"y\", alpha=0.5, linestyle=\"-.\")\n",
    "ax.plot(gsWala.index, gsWala[\"Outflow_Discharge\"], color=\"purple\")\n",
    "ax.fill_between(gsWala.index, gsWala[\"Outflow_Discharge\"], color=\"purple\", alpha=.4)\n",
    "\n",
    "peak_idx = gsWala[\"Outflow_Discharge\"].idxmax()\n",
    "peak_val = gsWala[\"Outflow_Discharge\"].max()\n",
    "\n",
    "\n",
    "tail_x = peak_idx - pd.Timedelta(days=5)\n",
    "tail_y = peak_val\n",
    "head_x = peak_idx\n",
    "head_y = peak_val\n",
    "\n",
    "\n",
    "arrow = FancyArrowPatch(\n",
    "    (tail_x, tail_y), (head_x, head_y),\n",
    "    connectionstyle=\"arc3,rad=-0.25\",  \n",
    "    arrowstyle=\"->\",\n",
    "    mutation_scale=14,\n",
    "    color=\"purple\",\n",
    "    lw=1.6,\n",
    "    transform=ax.transData,   \n",
    "    clip_on=False                 \n",
    ")\n",
    "ax.add_patch(arrow)\n",
    "\n",
    "ax.text(\n",
    "    tail_x, tail_y,\n",
    "    f\"Max: {peak_val:,.0f} cusecs\",\n",
    "    ha=\"right\", va=\"bottom\",\n",
    "    fontsize=9, fontweight=\"bold\", color=\"purple\"\n",
    ")\n",
    "\n",
    "ax.set(ylabel=\"Outflow (cusecs)\")\n",
    "\n",
    "text = \"\"\"<Outflow> Analysis of\\n<Ganda Singh Wala> Station\n",
    "\"\"\"\n",
    "fig_text(0.13, 1.02, text, fontsize=24, ha='left', va='top', color='black', highlight_textprops=[{\"fontweight\": \"bold\"} ,{\"fontweight\": \"bold\", \"color\": \"purple\"}])\n",
    "\n",
    "sns.despine()\n",
    "\n",
    "fig.savefig(\"outFlowAnalysisOfGSWala.png\", dpi=600, bbox_inches='tight')"
   ]
  },
  {
   "cell_type": "code",
   "execution_count": null,
   "id": "4c2a64aa",
   "metadata": {},
   "outputs": [
    {
     "name": "stdout",
     "output_type": "stream",
     "text": [
      "Total Amount of water released from G.S.Wala till 04 Aug 2025: 20.35 MAF\n"
     ]
    }
   ],
   "source": [
    "gsWala = gsWala.loc[gsWala.index > \"2025-08-26\"].copy()\n",
    "volume_in = np.trapezoid(gsWala[\"Inflow_Discharge\"], dx=dt)\n",
    "print(f\"Total Amount of water released from G.S.Wala till 04 Aug 2025: {volume_in * 1 / (43560 * 1e6):.2f} MAF\")"
   ]
  },
  {
   "cell_type": "code",
   "execution_count": null,
   "id": "6a69e938",
   "metadata": {},
   "outputs": [
    {
     "name": "stdout",
     "output_type": "stream",
     "text": [
      "Total Amount of water released from Jassar till 04 Aug 2025: 12.71 BCM\n"
     ]
    }
   ],
   "source": [
    "Jassar = pd.read_csv(\"pm_dashboard_data.csv\")\n",
    "Jassar[\"Date\"] = pd.to_datetime(Jassar[\"Date\"], dayfirst=True)\n",
    "Jassar = Jassar.set_index(\"Date\")\n",
    "Jassar = Jassar.loc[Jassar[\"Name of Structure\"] == \"Jassar\"].copy()\n",
    "volume_in = np.trapezoid (Jassar[\"Inflow_Discharge\"], dx=dt)\n",
    "#print(f\"Total Amount of water released from Jassar till 04 Aug 2025: {volume_in * 1e-9 / 35.3147:.2f} BCM\")\n",
    "print(f\"Total Amount of water released from Jassar till 04 Aug 2025: {volume_in * 1 / (43560 * 1e6):.2f} MAF\")"
   ]
  },
  {
   "cell_type": "code",
   "execution_count": 61,
   "id": "3bc8db87",
   "metadata": {},
   "outputs": [
    {
     "name": "stdout",
     "output_type": "stream",
     "text": [
      "4.788064778236914\n"
     ]
    }
   ],
   "source": [
    "gsWala[\"timeDifference\"] = gsWala.index.diff().total_seconds()\n",
    "gsWala[\"timeDifference\"] = gsWala[\"timeDifference\"].fillna(0)\n",
    "gsWala['volume_acft'] = gsWala['Inflow_Discharge'] * gsWala['timeDifference'] / 43560\n",
    "gsWala['volume_maf'] = gsWala['volume_acft'] / 1e6\n",
    "\n",
    "total_maf_by_river = gsWala['volume_maf'].sum()\n",
    "\n",
    "gsWala.head()\n",
    "print(total_maf_by_river)"
   ]
  },
  {
   "cell_type": "code",
   "execution_count": 63,
   "id": "11aeb600",
   "metadata": {},
   "outputs": [
    {
     "name": "stdout",
     "output_type": "stream",
     "text": [
      "1.7834079283746558\n"
     ]
    }
   ],
   "source": [
    "Jassar = pd.read_csv(\"pm_dashboard_data.csv\")\n",
    "Jassar[\"Date\"] = pd.to_datetime(Jassar[\"Date\"], dayfirst=True)\n",
    "Jassar = Jassar.set_index(\"Date\")\n",
    "Jassar = Jassar.loc[Jassar[\"Name of Structure\"] == \"Jassar\"].copy()\n",
    "Jassar = Jassar.loc[Jassar.index > \"2025-08-26\"].copy()\n",
    "Jassar[\"timeDifference\"] = Jassar.index.diff().total_seconds()\n",
    "Jassar[\"timeDifference\"] = Jassar[\"timeDifference\"].fillna(0)\n",
    "Jassar['volume_acft'] = Jassar['Inflow_Discharge'] * Jassar['timeDifference'] / 43560\n",
    "Jassar['volume_maf'] = Jassar['volume_acft'] / 1e6\n",
    "\n",
    "total_maf_by_river = Jassar['volume_maf'].sum()\n",
    "print(total_maf_by_river)"
   ]
  },
  {
   "cell_type": "code",
   "execution_count": 112,
   "id": "6751b9e1",
   "metadata": {},
   "outputs": [
    {
     "name": "stdout",
     "output_type": "stream",
     "text": [
      "6.045231533057851\n"
     ]
    },
    {
     "data": {
      "image/png": "[encoded data removed]",
      "text/plain": [
       "<Figure size 1200x600 with 1 Axes>"
      ]
     },
     "metadata": {},
     "output_type": "display_data"
    }
   ],
   "source": [
    "Khanki = pd.read_csv(\"pm_dashboard_data.csv\")\n",
    "Khanki[\"Date\"] = pd.to_datetime(Khanki[\"Date\"], dayfirst=True)\n",
    "Khanki = Khanki.set_index(\"Date\")\n",
    "Khanki = Khanki.loc[Khanki[\"Name of Structure\"] == \"Khanki\"].copy()\n",
    "Khanki = Khanki.loc[Khanki.index > \"2025-08-26\"].copy()\n",
    "Khanki[\"timeDifference\"] = Khanki.index.diff().total_seconds()\n",
    "Khanki[\"timeDifference\"] = Khanki[\"timeDifference\"].fillna(0)\n",
    "Khanki['volume_acft'] = Khanki['Inflow_Discharge'] * Khanki['timeDifference'] / 43560\n",
    "Khanki['volume_maf'] = Khanki['volume_acft'] / 1e6\n",
    "\n",
    "total_maf_by_river = Khanki['volume_maf'].sum()\n",
    "print(total_maf_by_river)\n",
    "\n",
    "\n",
    "fig, ax = plt.subplots(figsize=(12,6))\n",
    "ax.plot(Khanki.index, Khanki[\"volume_maf\"].rolling(7).mean(), label=\"Khanki\", color=\"blue\")\n",
    "ax.fill_between(Khanki.index, Khanki[\"volume_maf\"].rolling(7).mean(), label=\"Khanki\", color=\"blue\", alpha=.5)\n",
    "ax.legend(\n",
    "title=\"Total Volume\",\n",
    "labels=[f\"{\"Khanki\"}: {6.045231533057851:.2f} MAF\"],\n",
    "fontsize=10,\n",
    "title_fontsize=10,\n",
    "loc=\"upper right\",\n",
    "frameon=True,\n",
    "fancybox=True,\n",
    "shadow=True,\n",
    "framealpha=0.8,\n",
    "facecolor=\"white\",\n",
    "edgecolor=\"black\")\n",
    "\n",
    "\n",
    "\n",
    "text = \"\"\"<Volumetric Analysis> of\\n<Eastern Rivers> During <Flood 2025>\n",
    "\"\"\"\n",
    "fig_text(0.13, 1.08, text, fontsize=24, ha='left', va='top', color='black', highlight_textprops=[{\"fontweight\": \"bold\"} ,{\"fontweight\": \"bold\", \"color\": \"purple\"},{\"fontweight\": \"bold\", \"color\": \"red\"}])\n",
    "\n",
    "text = \"\"\"Khanki received 6.045 million acre-feet of floodwaters.\n",
    "\"\"\"\n",
    "fig_text(0.13, 0.948, text, fontsize=14, ha='left', va='top', color='black')\n",
    "\n",
    "\n",
    "sns.despine()\n"
   ]
  },
  {
   "cell_type": "code",
   "execution_count": null,
   "id": "eeb54d0f",
   "metadata": {},
   "outputs": [],
   "source": []
  },
  {
   "cell_type": "code",
   "execution_count": 72,
   "id": "f62a1269",
   "metadata": {},
   "outputs": [
    {
     "name": "stdout",
     "output_type": "stream",
     "text": [
      "total amount of water entering pakistan during flood 2025: 12.62 MAF\n"
     ]
    }
   ],
   "source": [
    "print(f\"total amount of water entering pakistan during flood 2025: {4.788064778236914 + 1.7834079283746558 + 6.045231533057851:.2f} MAF\")"
   ]
  },
  {
   "cell_type": "code",
   "execution_count": 110,
   "id": "ecbdee3c",
   "metadata": {},
   "outputs": [
    {
     "data": {
      "image/png": "[encoded data removed]",
      "text/plain": [
       "<Figure size 1200x600 with 3 Axes>"
      ]
     },
     "metadata": {},
     "output_type": "display_data"
    }
   ],
   "source": [
    "fig, ax = plt.subplots(figsize=(12,6), nrows=3, sharex=True)\n",
    "\n",
    "ax[0].plot(Khanki.index, Khanki[\"volume_maf\"].rolling(7).mean(), label=\"Khanki\", color=\"blue\")\n",
    "ax[0].fill_between(Khanki.index, Khanki[\"volume_maf\"].rolling(7).mean(), alpha=.4, color=\"purple\")\n",
    "\n",
    "\n",
    "ax[1].plot(gsWala.index, gsWala[\"volume_maf\"].rolling(7).mean(), label=\"G.S Wala\", color=\"orange\")\n",
    "ax[1].fill_between(gsWala.index, gsWala[\"volume_maf\"].rolling(7).mean(), alpha=.4, color=\"orange\")\n",
    "\n",
    "\n",
    "ax[2].plot(Jassar.index, Jassar[\"volume_maf\"].rolling(7).mean(), label=\"Jassar\", color=\"purple\")\n",
    "ax[2].fill_between(Jassar.index, Jassar[\"volume_maf\"].rolling(7).mean(), alpha=.4, color=\"blue\")\n",
    "\n",
    "\n",
    "for eachFig, station, vol in zip(ax, [\"Khanki\", \"G.S Wala\", \"Jassar\"], [6.045231533057851, 1.7834079283746558, 4.788064778236914]):\n",
    "    eachFig.set(ylabel=\"Volume (MAF)\")\n",
    "    eachFig.legend(\n",
    "    title=\"Total Volume\",\n",
    "    labels=[f\"{station}: {vol:.2f} MAF\"],\n",
    "    fontsize=10,\n",
    "    title_fontsize=10,\n",
    "    loc=\"upper right\",\n",
    "    frameon=True,\n",
    "    fancybox=True,\n",
    "    shadow=True,\n",
    "    framealpha=0.8,\n",
    "    facecolor=\"white\",\n",
    "    edgecolor=\"black\")\n",
    "\n",
    "text = \"\"\"<Volumetric Analysis> of\\n<Eastern Rivers> During <Flood 2025>\n",
    "\"\"\"\n",
    "fig_text(0.13, 1.08, text, fontsize=24, ha='left', va='top', color='black', highlight_textprops=[{\"fontweight\": \"bold\"} ,{\"fontweight\": \"bold\", \"color\": \"purple\"},{\"fontweight\": \"bold\", \"color\": \"red\"}])\n",
    "\n",
    "text = \"\"\"A total of 12.62 million acre-feet of water poured in from the east\n",
    "\"\"\"\n",
    "fig_text(0.13, 0.948, text, fontsize=14, ha='left', va='top', color='black')\n",
    "\n",
    "\n",
    "\n",
    "sns.despine()"
   ]
  },
  {
   "cell_type": "code",
   "execution_count": null,
   "id": "4e2f3934",
   "metadata": {},
   "outputs": [],
   "source": []
  },
  {
   "cell_type": "code",
   "execution_count": 19,
   "id": "131ff0cf",
   "metadata": {},
   "outputs": [
    {
     "ename": "NameError",
     "evalue": "name 'gsWala' is not defined",
     "output_type": "error",
     "traceback": [
      "\u001b[31m---------------------------------------------------------------------------\u001b[39m",
      "\u001b[31mNameError\u001b[39m                                 Traceback (most recent call last)",
      "\u001b[36mCell\u001b[39m\u001b[36m \u001b[39m\u001b[32mIn[19]\u001b[39m\u001b[32m, line 1\u001b[39m\n\u001b[32m----> \u001b[39m\u001b[32m1\u001b[39m \u001b[43mgsWala\u001b[49m.head()\n",
      "\u001b[31mNameError\u001b[39m: name 'gsWala' is not defined"
     ]
    }
   ],
   "source": [
    "gsWala.head()"
   ]
  },
  {
   "cell_type": "code",
   "execution_count": 207,
   "id": "7864537d",
   "metadata": {},
   "outputs": [
    {
     "name": "stdout",
     "output_type": "stream",
     "text": [
      "Total Amount of water released from GSWala till 04 Aug 2025: 20.35 MAF\n"
     ]
    }
   ],
   "source": [
    "volume_in = np.trapezoid (gsWala[\"Inflow_Discharge\"], dx=dt)\n",
    "#print(f\"Total Amount of water released from GSWala till 04 Aug 2025: {volume_in * 1e-9 / 35.3147:.2f} BCM\")\n",
    "print(f\"Total Amount of water released from GSWala till 04 Aug 2025: {volume_in * 1 / (43560 * 1e6):.2f} MAF\")"
   ]
  },
  {
   "cell_type": "code",
   "execution_count": 214,
   "id": "b7c3957b",
   "metadata": {},
   "outputs": [
    {
     "data": {
      "text/plain": [
       "np.float64(0.19343801652892562)"
      ]
     },
     "execution_count": 214,
     "metadata": {},
     "output_type": "execute_result"
    }
   ],
   "source": [
    "d = np.trapezoid([99470, 95580], dx=dt)\n",
    "d * 1 / (43560 * 1e6)"
   ]
  },
  {
   "cell_type": "code",
   "execution_count": 208,
   "id": "bd2e6f02",
   "metadata": {},
   "outputs": [
    {
     "name": "stdout",
     "output_type": "stream",
     "text": [
      "Total Amount of water released from Khanki till 04 Aug 2025: 54.71 MAF\n"
     ]
    }
   ],
   "source": [
    "Khanki = pd.read_csv(\"pm_dashboard_data.csv\")\n",
    "Khanki[\"Date\"] = pd.to_datetime(Khanki[\"Date\"], dayfirst=True)\n",
    "Khanki = Khanki.set_index(\"Date\")\n",
    "Khanki = Khanki.loc[Khanki[\"Name of Structure\"] == \"Khanki\"].copy()\n",
    "volume_in = np.trapezoid (Khanki[\"Inflow_Discharge\"], dx=dt)\n",
    "#print(f\"Total Amount of water released from Khanki till 04 Aug 2025: {volume_in * 1e-9 / 35.3147:.2f} BCM\")\n",
    "print(f\"Total Amount of water released from Khanki till 04 Aug 2025: {volume_in * 1 / (43560 * 1e6):.2f} MAF\")"
   ]
  },
  {
   "cell_type": "code",
   "execution_count": 209,
   "id": "51aca4d6",
   "metadata": {},
   "outputs": [
    {
     "name": "stdout",
     "output_type": "stream",
     "text": [
      "total amount of water entering pakistan during flood 2025: 87.77 MAF\n"
     ]
    }
   ],
   "source": [
    "print(f\"total amount of water entering pakistan during flood 2025: {12.71 + 20.35 + 54.71:.2f} MAF\")"
   ]
  }
 ],
 "metadata": {
  "kernelspec": {
   "display_name": "agents",
   "language": "python",
   "name": "python3"
  },
  "language_info": {
   "codemirror_mode": {
    "name": "ipython",
    "version": 3
   },
   "file_extension": ".py",
   "mimetype": "text/x-python",
   "name": "python",
   "nbconvert_exporter": "python",
   "pygments_lexer": "ipython3",
   "version": "3.12.9"
  }
 },
 "nbformat": 4,
 "nbformat_minor": 5
}
